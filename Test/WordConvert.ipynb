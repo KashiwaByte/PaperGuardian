{
 "cells": [
  {
   "cell_type": "code",
   "execution_count": null,
   "metadata": {},
   "outputs": [],
   "source": [
    "#!/usr/bin/env python\n",
    "# -*- coding: utf-8 -*-\n",
    "r\"\"\"\n",
    "@DATE: 2025-01-18 21:09:55\n",
    "@File: Test/WordConvert.ipynb\n",
    "@IDE: vscode\n",
    "@Description:\n",
    "    Word转PDF\n",
    "\"\"\""
   ]
  },
  {
   "cell_type": "code",
   "execution_count": 10,
   "metadata": {},
   "outputs": [
    {
     "ename": "RuntimeError",
     "evalue": "Pandoc died with exitcode \"47\" during conversion: [WARNING] Could not convert image /private/var/folders/n6/d3myd2vn4d1_p_t7tgm4dpsw0000gn/T/tex2pdf.-2a2b4f3a826e3a63/media/image4.emf: Cannot load file\n  Jpeg Invalid marker used\n  PNG Invalid PNG file, signature broken\n  Bitmap Invalid Bitmap magic identifier\n  GIF Invalid Gif signature : \u0001\u0000\u0000\u0000l\u0000\n  HDR Invalid radiance file signature\n  Tiff Invalid endian tag value\n  TGA Width is null or negative\n[WARNING] Could not convert image /private/var/folders/n6/d3myd2vn4d1_p_t7tgm4dpsw0000gn/T/tex2pdf.-2a2b4f3a826e3a63/media/image5.emf: Cannot load file\n  Jpeg Invalid marker used\n  PNG Invalid PNG file, signature broken\n  Bitmap Invalid Bitmap magic identifier\n  GIF Invalid Gif signature : \u0001\u0000\u0000\u0000l\u0000\n  HDR Invalid radiance file signature\n  Tiff Invalid endian tag value\n  TGA Width is null or negative\n[WARNING] Could not convert image /private/var/folders/n6/d3myd2vn4d1_p_t7tgm4dpsw0000gn/T/tex2pdf.-2a2b4f3a826e3a63/media/image6.emf: Cannot load file\n  Jpeg Invalid marker used\n  PNG Invalid PNG file, signature broken\n  Bitmap Invalid Bitmap magic identifier\n  GIF Invalid Gif signature : \u0001\u0000\u0000\u0000l\u0000\n  HDR Invalid radiance file signature\n  Tiff Invalid endian tag value\n  TGA Width is null or negative\n[WARNING] Could not convert image /private/var/folders/n6/d3myd2vn4d1_p_t7tgm4dpsw0000gn/T/tex2pdf.-2a2b4f3a826e3a63/media/image7.emf: Cannot load file\n  Jpeg Invalid marker used\n  PNG Invalid PNG file, signature broken\n  Bitmap Invalid Bitmap magic identifier\n  GIF Invalid Gif signature : \u0001\u0000\u0000\u0000l\u0000\n  HDR Invalid radiance file signature\n  Tiff Invalid endian tag value\n  TGA Width is null or negative\n[WARNING] Could not convert image /private/var/folders/n6/d3myd2vn4d1_p_t7tgm4dpsw0000gn/T/tex2pdf.-2a2b4f3a826e3a63/media/image8.emf: Cannot load file\n  Jpeg Invalid marker used\n  PNG Invalid PNG file, signature broken\n  Bitmap Invalid Bitmap magic identifier\n  GIF Invalid Gif signature : \u0001\u0000\u0000\u0000l\u0000\n  HDR Invalid radiance file signature\n  Tiff Invalid endian tag value\n  TGA Width is null or negative\n[WARNING] Could not convert image /private/var/folders/n6/d3myd2vn4d1_p_t7tgm4dpsw0000gn/T/tex2pdf.-2a2b4f3a826e3a63/media/image9.emf: Cannot load file\n  Jpeg Invalid marker used\n  PNG Invalid PNG file, signature broken\n  Bitmap Invalid Bitmap magic identifier\n  GIF Invalid Gif signature : \u0001\u0000\u0000\u0000l\u0000\n  HDR Invalid radiance file signature\n  Tiff Invalid endian tag value\n  TGA Width is null or negative\n[WARNING] Could not convert image /private/var/folders/n6/d3myd2vn4d1_p_t7tgm4dpsw0000gn/T/tex2pdf.-2a2b4f3a826e3a63/media/image10.emf: Cannot load file\n  Jpeg Invalid marker used\n  PNG Invalid PNG file, signature broken\n  Bitmap Invalid Bitmap magic identifier\n  GIF Invalid Gif signature : \u0001\u0000\u0000\u0000l\u0000\n  HDR Invalid radiance file signature\n  Tiff Invalid endian tag value\n  TGA Width is null or negative\n[WARNING] Could not convert image /private/var/folders/n6/d3myd2vn4d1_p_t7tgm4dpsw0000gn/T/tex2pdf.-2a2b4f3a826e3a63/media/image11.emf: Cannot load file\n  Jpeg Invalid marker used\n  PNG Invalid PNG file, signature broken\n  Bitmap Invalid Bitmap magic identifier\n  GIF Invalid Gif signature : \u0001\u0000\u0000\u0000l\u0000\n  HDR Invalid radiance file signature\n  Tiff Invalid endian tag value\n  TGA Width is null or negative\n[WARNING] Could not convert image /private/var/folders/n6/d3myd2vn4d1_p_t7tgm4dpsw0000gn/T/tex2pdf.-2a2b4f3a826e3a63/media/image12.emf: Cannot load file\n  Jpeg Invalid marker used\n  PNG Invalid PNG file, signature broken\n  Bitmap Invalid Bitmap magic identifier\n  GIF Invalid Gif signature : \u0001\u0000\u0000\u0000l\u0000\n  HDR Invalid radiance file signature\n  Tiff Invalid endian tag value\n  TGA Width is null or negative\n[WARNING] Could not convert image /private/var/folders/n6/d3myd2vn4d1_p_t7tgm4dpsw0000gn/T/tex2pdf.-2a2b4f3a826e3a63/media/image13.emf: Cannot load file\n  Jpeg Invalid marker used\n  PNG Invalid PNG file, signature broken\n  Bitmap Invalid Bitmap magic identifier\n  GIF Invalid Gif signature : \u0001\u0000\u0000\u0000l\u0000\n  HDR Invalid radiance file signature\n  Tiff Invalid endian tag value\n  TGA Width is null or negative\n[WARNING] Could not convert image /private/var/folders/n6/d3myd2vn4d1_p_t7tgm4dpsw0000gn/T/tex2pdf.-2a2b4f3a826e3a63/media/image14.emf: Cannot load file\n  Jpeg Invalid marker used\n  PNG Invalid PNG file, signature broken\n  Bitmap Invalid Bitmap magic identifier\n  GIF Invalid Gif signature : \u0001\u0000\u0000\u0000l\u0000\n  HDR Invalid radiance file signature\n  Tiff Invalid endian tag value\n  TGA Width is null or negative\n[WARNING] Could not convert image /private/var/folders/n6/d3myd2vn4d1_p_t7tgm4dpsw0000gn/T/tex2pdf.-2a2b4f3a826e3a63/media/image19.emf: Cannot load file\n  Jpeg Invalid marker used\n  PNG Invalid PNG file, signature broken\n  Bitmap Invalid Bitmap magic identifier\n  GIF Invalid Gif signature : \u0001\u0000\u0000\u0000l\u0000\n  HDR Invalid radiance file signature\n  Tiff Invalid endian tag value\n  TGA Width is null or negative\n[WARNING] Could not convert image /private/var/folders/n6/d3myd2vn4d1_p_t7tgm4dpsw0000gn/T/tex2pdf.-2a2b4f3a826e3a63/media/image20.emf: Cannot load file\n  Jpeg Invalid marker used\n  PNG Invalid PNG file, signature broken\n  Bitmap Invalid Bitmap magic identifier\n  GIF Invalid Gif signature : \u0001\u0000\u0000\u0000l\u0000\n  HDR Invalid radiance file signature\n  Tiff Invalid endian tag value\n  TGA Width is null or negative\n[WARNING] Could not convert image /private/var/folders/n6/d3myd2vn4d1_p_t7tgm4dpsw0000gn/T/tex2pdf.-2a2b4f3a826e3a63/media/image21.emf: Cannot load file\n  Jpeg Invalid marker used\n  PNG Invalid PNG file, signature broken\n  Bitmap Invalid Bitmap magic identifier\n  GIF Invalid Gif signature : \u0001\u0000\u0000\u0000l\u0000\n  HDR Invalid radiance file signature\n  Tiff Invalid endian tag value\n  TGA Width is null or negative\n[WARNING] Could not convert image /private/var/folders/n6/d3myd2vn4d1_p_t7tgm4dpsw0000gn/T/tex2pdf.-2a2b4f3a826e3a63/media/image22.emf: Cannot load file\n  Jpeg Invalid marker used\n  PNG Invalid PNG file, signature broken\n  Bitmap Invalid Bitmap magic identifier\n  GIF Invalid Gif signature : \u0001\u0000\u0000\u0000l\u0000\n  HDR Invalid radiance file signature\n  Tiff Invalid endian tag value\n  TGA Width is null or negative\npdflatex not found. Please select a different --pdf-engine or install pdflatex\n",
     "output_type": "error",
     "traceback": [
      "\u001b[0;31m---------------------------------------------------------------------------\u001b[0m",
      "\u001b[0;31mRuntimeError\u001b[0m                              Traceback (most recent call last)",
      "Cell \u001b[0;32mIn[10], line 13\u001b[0m\n\u001b[1;32m     10\u001b[0m word_file \u001b[38;5;241m=\u001b[39m \u001b[38;5;124m'\u001b[39m\u001b[38;5;124m../TestPaper/21414000_21414000_（梁晓琦）基于HTML5的移动学习平台设计与实现_2018-03-17-16-43-37.docx\u001b[39m\u001b[38;5;124m'\u001b[39m\n\u001b[1;32m     11\u001b[0m pdf_file \u001b[38;5;241m=\u001b[39m\u001b[38;5;124m'\u001b[39m\u001b[38;5;124m../TestPaper/基于HTML5的移动学习平台设计与实现.pdf\u001b[39m\u001b[38;5;124m'\u001b[39m\n\u001b[0;32m---> 13\u001b[0m \u001b[43mword_to_pdf\u001b[49m\u001b[43m(\u001b[49m\u001b[43mword_file\u001b[49m\u001b[43m,\u001b[49m\u001b[43m \u001b[49m\u001b[43mpdf_file\u001b[49m\u001b[43m)\u001b[49m\n",
      "Cell \u001b[0;32mIn[10], line 4\u001b[0m, in \u001b[0;36mword_to_pdf\u001b[0;34m(word_file, pdf_file)\u001b[0m\n\u001b[1;32m      3\u001b[0m \u001b[38;5;28;01mdef\u001b[39;00m\u001b[38;5;250m \u001b[39m\u001b[38;5;21mword_to_pdf\u001b[39m(word_file, pdf_file):\n\u001b[0;32m----> 4\u001b[0m     output \u001b[38;5;241m=\u001b[39m \u001b[43mpypandoc\u001b[49m\u001b[38;5;241;43m.\u001b[39;49m\u001b[43mconvert_file\u001b[49m\u001b[43m(\u001b[49m\u001b[43mword_file\u001b[49m\u001b[43m,\u001b[49m\u001b[43m \u001b[49m\u001b[38;5;124;43m'\u001b[39;49m\u001b[38;5;124;43mpdf\u001b[39;49m\u001b[38;5;124;43m'\u001b[39;49m\u001b[43m,\u001b[49m\u001b[43m \u001b[49m\u001b[43moutputfile\u001b[49m\u001b[38;5;241;43m=\u001b[39;49m\u001b[43mpdf_file\u001b[49m\u001b[43m)\u001b[49m\n\u001b[1;32m      5\u001b[0m     \u001b[38;5;28;01massert\u001b[39;00m output \u001b[38;5;241m==\u001b[39m \u001b[38;5;124m\"\u001b[39m\u001b[38;5;124m\"\u001b[39m\n\u001b[1;32m      6\u001b[0m     \u001b[38;5;28mprint\u001b[39m(\u001b[38;5;124mf\u001b[39m\u001b[38;5;124m\"\u001b[39m\u001b[38;5;124mPDF saved to \u001b[39m\u001b[38;5;132;01m{\u001b[39;00mpdf_file\u001b[38;5;132;01m}\u001b[39;00m\u001b[38;5;124m\"\u001b[39m)\n",
      "File \u001b[0;32m/opt/homebrew/anaconda3/envs/diploma/lib/python3.12/site-packages/pypandoc/__init__.py:200\u001b[0m, in \u001b[0;36mconvert_file\u001b[0;34m(source_file, to, format, extra_args, encoding, outputfile, filters, verify_format, sandbox, cworkdir)\u001b[0m\n\u001b[1;32m    197\u001b[0m \u001b[38;5;28;01mif\u001b[39;00m \u001b[38;5;28mlen\u001b[39m(discovered_source_files) \u001b[38;5;241m==\u001b[39m \u001b[38;5;241m1\u001b[39m:\n\u001b[1;32m    198\u001b[0m     discovered_source_files \u001b[38;5;241m=\u001b[39m discovered_source_files[\u001b[38;5;241m0\u001b[39m]\n\u001b[0;32m--> 200\u001b[0m \u001b[38;5;28;01mreturn\u001b[39;00m \u001b[43m_convert_input\u001b[49m\u001b[43m(\u001b[49m\u001b[43mdiscovered_source_files\u001b[49m\u001b[43m,\u001b[49m\u001b[43m \u001b[49m\u001b[38;5;28;43mformat\u001b[39;49m\u001b[43m,\u001b[49m\u001b[43m \u001b[49m\u001b[38;5;124;43m'\u001b[39;49m\u001b[38;5;124;43mpath\u001b[39;49m\u001b[38;5;124;43m'\u001b[39;49m\u001b[43m,\u001b[49m\u001b[43m \u001b[49m\u001b[43mto\u001b[49m\u001b[43m,\u001b[49m\u001b[43m \u001b[49m\u001b[43mextra_args\u001b[49m\u001b[38;5;241;43m=\u001b[39;49m\u001b[43mextra_args\u001b[49m\u001b[43m,\u001b[49m\n\u001b[1;32m    201\u001b[0m \u001b[43m                  \u001b[49m\u001b[43moutputfile\u001b[49m\u001b[38;5;241;43m=\u001b[39;49m\u001b[43moutputfile\u001b[49m\u001b[43m,\u001b[49m\u001b[43m \u001b[49m\u001b[43mfilters\u001b[49m\u001b[38;5;241;43m=\u001b[39;49m\u001b[43mfilters\u001b[49m\u001b[43m,\u001b[49m\n\u001b[1;32m    202\u001b[0m \u001b[43m                  \u001b[49m\u001b[43mverify_format\u001b[49m\u001b[38;5;241;43m=\u001b[39;49m\u001b[43mverify_format\u001b[49m\u001b[43m,\u001b[49m\u001b[43m \u001b[49m\u001b[43msandbox\u001b[49m\u001b[38;5;241;43m=\u001b[39;49m\u001b[43msandbox\u001b[49m\u001b[43m,\u001b[49m\n\u001b[1;32m    203\u001b[0m \u001b[43m                  \u001b[49m\u001b[43mcworkdir\u001b[49m\u001b[38;5;241;43m=\u001b[39;49m\u001b[43mcworkdir\u001b[49m\u001b[43m)\u001b[49m\n",
      "File \u001b[0;32m/opt/homebrew/anaconda3/envs/diploma/lib/python3.12/site-packages/pypandoc/__init__.py:467\u001b[0m, in \u001b[0;36m_convert_input\u001b[0;34m(source, format, input_type, to, extra_args, outputfile, filters, verify_format, sandbox, cworkdir)\u001b[0m\n\u001b[1;32m    465\u001b[0m \u001b[38;5;66;03m# check that pandoc returned successfully\u001b[39;00m\n\u001b[1;32m    466\u001b[0m \u001b[38;5;28;01mif\u001b[39;00m p\u001b[38;5;241m.\u001b[39mreturncode \u001b[38;5;241m!=\u001b[39m \u001b[38;5;241m0\u001b[39m:\n\u001b[0;32m--> 467\u001b[0m     \u001b[38;5;28;01mraise\u001b[39;00m \u001b[38;5;167;01mRuntimeError\u001b[39;00m(\n\u001b[1;32m    468\u001b[0m         \u001b[38;5;124m'\u001b[39m\u001b[38;5;124mPandoc died with exitcode \u001b[39m\u001b[38;5;124m\"\u001b[39m\u001b[38;5;132;01m%s\u001b[39;00m\u001b[38;5;124m\"\u001b[39m\u001b[38;5;124m during conversion: \u001b[39m\u001b[38;5;132;01m%s\u001b[39;00m\u001b[38;5;124m'\u001b[39m \u001b[38;5;241m%\u001b[39m (p\u001b[38;5;241m.\u001b[39mreturncode, stderr)\n\u001b[1;32m    469\u001b[0m     )\n\u001b[1;32m    471\u001b[0m \u001b[38;5;66;03m# if there is output on stderr, process it and send to logger\u001b[39;00m\n\u001b[1;32m    472\u001b[0m \u001b[38;5;28;01mif\u001b[39;00m stderr:\n",
      "\u001b[0;31mRuntimeError\u001b[0m: Pandoc died with exitcode \"47\" during conversion: [WARNING] Could not convert image /private/var/folders/n6/d3myd2vn4d1_p_t7tgm4dpsw0000gn/T/tex2pdf.-2a2b4f3a826e3a63/media/image4.emf: Cannot load file\n  Jpeg Invalid marker used\n  PNG Invalid PNG file, signature broken\n  Bitmap Invalid Bitmap magic identifier\n  GIF Invalid Gif signature : \u0001\u0000\u0000\u0000l\u0000\n  HDR Invalid radiance file signature\n  Tiff Invalid endian tag value\n  TGA Width is null or negative\n[WARNING] Could not convert image /private/var/folders/n6/d3myd2vn4d1_p_t7tgm4dpsw0000gn/T/tex2pdf.-2a2b4f3a826e3a63/media/image5.emf: Cannot load file\n  Jpeg Invalid marker used\n  PNG Invalid PNG file, signature broken\n  Bitmap Invalid Bitmap magic identifier\n  GIF Invalid Gif signature : \u0001\u0000\u0000\u0000l\u0000\n  HDR Invalid radiance file signature\n  Tiff Invalid endian tag value\n  TGA Width is null or negative\n[WARNING] Could not convert image /private/var/folders/n6/d3myd2vn4d1_p_t7tgm4dpsw0000gn/T/tex2pdf.-2a2b4f3a826e3a63/media/image6.emf: Cannot load file\n  Jpeg Invalid marker used\n  PNG Invalid PNG file, signature broken\n  Bitmap Invalid Bitmap magic identifier\n  GIF Invalid Gif signature : \u0001\u0000\u0000\u0000l\u0000\n  HDR Invalid radiance file signature\n  Tiff Invalid endian tag value\n  TGA Width is null or negative\n[WARNING] Could not convert image /private/var/folders/n6/d3myd2vn4d1_p_t7tgm4dpsw0000gn/T/tex2pdf.-2a2b4f3a826e3a63/media/image7.emf: Cannot load file\n  Jpeg Invalid marker used\n  PNG Invalid PNG file, signature broken\n  Bitmap Invalid Bitmap magic identifier\n  GIF Invalid Gif signature : \u0001\u0000\u0000\u0000l\u0000\n  HDR Invalid radiance file signature\n  Tiff Invalid endian tag value\n  TGA Width is null or negative\n[WARNING] Could not convert image /private/var/folders/n6/d3myd2vn4d1_p_t7tgm4dpsw0000gn/T/tex2pdf.-2a2b4f3a826e3a63/media/image8.emf: Cannot load file\n  Jpeg Invalid marker used\n  PNG Invalid PNG file, signature broken\n  Bitmap Invalid Bitmap magic identifier\n  GIF Invalid Gif signature : \u0001\u0000\u0000\u0000l\u0000\n  HDR Invalid radiance file signature\n  Tiff Invalid endian tag value\n  TGA Width is null or negative\n[WARNING] Could not convert image /private/var/folders/n6/d3myd2vn4d1_p_t7tgm4dpsw0000gn/T/tex2pdf.-2a2b4f3a826e3a63/media/image9.emf: Cannot load file\n  Jpeg Invalid marker used\n  PNG Invalid PNG file, signature broken\n  Bitmap Invalid Bitmap magic identifier\n  GIF Invalid Gif signature : \u0001\u0000\u0000\u0000l\u0000\n  HDR Invalid radiance file signature\n  Tiff Invalid endian tag value\n  TGA Width is null or negative\n[WARNING] Could not convert image /private/var/folders/n6/d3myd2vn4d1_p_t7tgm4dpsw0000gn/T/tex2pdf.-2a2b4f3a826e3a63/media/image10.emf: Cannot load file\n  Jpeg Invalid marker used\n  PNG Invalid PNG file, signature broken\n  Bitmap Invalid Bitmap magic identifier\n  GIF Invalid Gif signature : \u0001\u0000\u0000\u0000l\u0000\n  HDR Invalid radiance file signature\n  Tiff Invalid endian tag value\n  TGA Width is null or negative\n[WARNING] Could not convert image /private/var/folders/n6/d3myd2vn4d1_p_t7tgm4dpsw0000gn/T/tex2pdf.-2a2b4f3a826e3a63/media/image11.emf: Cannot load file\n  Jpeg Invalid marker used\n  PNG Invalid PNG file, signature broken\n  Bitmap Invalid Bitmap magic identifier\n  GIF Invalid Gif signature : \u0001\u0000\u0000\u0000l\u0000\n  HDR Invalid radiance file signature\n  Tiff Invalid endian tag value\n  TGA Width is null or negative\n[WARNING] Could not convert image /private/var/folders/n6/d3myd2vn4d1_p_t7tgm4dpsw0000gn/T/tex2pdf.-2a2b4f3a826e3a63/media/image12.emf: Cannot load file\n  Jpeg Invalid marker used\n  PNG Invalid PNG file, signature broken\n  Bitmap Invalid Bitmap magic identifier\n  GIF Invalid Gif signature : \u0001\u0000\u0000\u0000l\u0000\n  HDR Invalid radiance file signature\n  Tiff Invalid endian tag value\n  TGA Width is null or negative\n[WARNING] Could not convert image /private/var/folders/n6/d3myd2vn4d1_p_t7tgm4dpsw0000gn/T/tex2pdf.-2a2b4f3a826e3a63/media/image13.emf: Cannot load file\n  Jpeg Invalid marker used\n  PNG Invalid PNG file, signature broken\n  Bitmap Invalid Bitmap magic identifier\n  GIF Invalid Gif signature : \u0001\u0000\u0000\u0000l\u0000\n  HDR Invalid radiance file signature\n  Tiff Invalid endian tag value\n  TGA Width is null or negative\n[WARNING] Could not convert image /private/var/folders/n6/d3myd2vn4d1_p_t7tgm4dpsw0000gn/T/tex2pdf.-2a2b4f3a826e3a63/media/image14.emf: Cannot load file\n  Jpeg Invalid marker used\n  PNG Invalid PNG file, signature broken\n  Bitmap Invalid Bitmap magic identifier\n  GIF Invalid Gif signature : \u0001\u0000\u0000\u0000l\u0000\n  HDR Invalid radiance file signature\n  Tiff Invalid endian tag value\n  TGA Width is null or negative\n[WARNING] Could not convert image /private/var/folders/n6/d3myd2vn4d1_p_t7tgm4dpsw0000gn/T/tex2pdf.-2a2b4f3a826e3a63/media/image19.emf: Cannot load file\n  Jpeg Invalid marker used\n  PNG Invalid PNG file, signature broken\n  Bitmap Invalid Bitmap magic identifier\n  GIF Invalid Gif signature : \u0001\u0000\u0000\u0000l\u0000\n  HDR Invalid radiance file signature\n  Tiff Invalid endian tag value\n  TGA Width is null or negative\n[WARNING] Could not convert image /private/var/folders/n6/d3myd2vn4d1_p_t7tgm4dpsw0000gn/T/tex2pdf.-2a2b4f3a826e3a63/media/image20.emf: Cannot load file\n  Jpeg Invalid marker used\n  PNG Invalid PNG file, signature broken\n  Bitmap Invalid Bitmap magic identifier\n  GIF Invalid Gif signature : \u0001\u0000\u0000\u0000l\u0000\n  HDR Invalid radiance file signature\n  Tiff Invalid endian tag value\n  TGA Width is null or negative\n[WARNING] Could not convert image /private/var/folders/n6/d3myd2vn4d1_p_t7tgm4dpsw0000gn/T/tex2pdf.-2a2b4f3a826e3a63/media/image21.emf: Cannot load file\n  Jpeg Invalid marker used\n  PNG Invalid PNG file, signature broken\n  Bitmap Invalid Bitmap magic identifier\n  GIF Invalid Gif signature : \u0001\u0000\u0000\u0000l\u0000\n  HDR Invalid radiance file signature\n  Tiff Invalid endian tag value\n  TGA Width is null or negative\n[WARNING] Could not convert image /private/var/folders/n6/d3myd2vn4d1_p_t7tgm4dpsw0000gn/T/tex2pdf.-2a2b4f3a826e3a63/media/image22.emf: Cannot load file\n  Jpeg Invalid marker used\n  PNG Invalid PNG file, signature broken\n  Bitmap Invalid Bitmap magic identifier\n  GIF Invalid Gif signature : \u0001\u0000\u0000\u0000l\u0000\n  HDR Invalid radiance file signature\n  Tiff Invalid endian tag value\n  TGA Width is null or negative\npdflatex not found. Please select a different --pdf-engine or install pdflatex\n"
     ]
    }
   ],
   "source": [
    "import pypandoc\n",
    "\n",
    "def word_to_pdf(word_file, pdf_file):\n",
    "    output = pypandoc.convert_file(word_file, 'pdf', outputfile=pdf_file)\n",
    "    assert output == \"\"\n",
    "    print(f\"PDF saved to {pdf_file}\")\n",
    "\n",
    "if __name__ == \"__main__\":\n",
    "\n",
    "    word_file = '../TestPaper/21414000_21414000_（梁晓琦）基于HTML5的移动学习平台设计与实现_2018-03-17-16-43-37.docx'\n",
    "    pdf_file ='../TestPaper/基于HTML5的移动学习平台设计与实现.pdf'\n",
    "    \n",
    "    word_to_pdf(word_file, pdf_file)\n"
   ]
  },
  {
   "cell_type": "code",
   "execution_count": 5,
   "metadata": {},
   "outputs": [
    {
     "ename": "DeprecationError",
     "evalue": "addBlankPage is deprecated and was removed in PyPDF2 3.0.0. Use add_blank_page instead.",
     "output_type": "error",
     "traceback": [
      "\u001b[0;31m---------------------------------------------------------------------------\u001b[0m",
      "\u001b[0;31mDeprecationError\u001b[0m                          Traceback (most recent call last)",
      "Cell \u001b[0;32mIn[5], line 18\u001b[0m\n\u001b[1;32m     16\u001b[0m \u001b[38;5;28;01mfor\u001b[39;00m page \u001b[38;5;129;01min\u001b[39;00m \u001b[38;5;28mrange\u001b[39m(\u001b[38;5;28mlen\u001b[39m(document\u001b[38;5;241m.\u001b[39msections)):  \n\u001b[1;32m     17\u001b[0m     section \u001b[38;5;241m=\u001b[39m document\u001b[38;5;241m.\u001b[39msections[page]  \n\u001b[0;32m---> 18\u001b[0m     pdf_page \u001b[38;5;241m=\u001b[39m \u001b[43mpdf_writer\u001b[49m\u001b[38;5;241;43m.\u001b[39;49m\u001b[43maddBlankPage\u001b[49m\u001b[43m(\u001b[49m\u001b[43m)\u001b[49m  \n\u001b[1;32m     19\u001b[0m     \u001b[38;5;28;01mfor\u001b[39;00m shape \u001b[38;5;129;01min\u001b[39;00m section\u001b[38;5;241m.\u001b[39mshapes:  \n\u001b[1;32m     20\u001b[0m         \u001b[38;5;28;01mif\u001b[39;00m shape\u001b[38;5;241m.\u001b[39mhas_text_frame:  \n",
      "File \u001b[0;32m/opt/homebrew/anaconda3/envs/diploma/lib/python3.12/site-packages/PyPDF2/_writer.py:442\u001b[0m, in \u001b[0;36mPdfWriter.addBlankPage\u001b[0;34m(self, width, height)\u001b[0m\n\u001b[1;32m    434\u001b[0m \u001b[38;5;28;01mdef\u001b[39;00m\u001b[38;5;250m \u001b[39m\u001b[38;5;21maddBlankPage\u001b[39m(\n\u001b[1;32m    435\u001b[0m     \u001b[38;5;28mself\u001b[39m, width: Optional[\u001b[38;5;28mfloat\u001b[39m] \u001b[38;5;241m=\u001b[39m \u001b[38;5;28;01mNone\u001b[39;00m, height: Optional[\u001b[38;5;28mfloat\u001b[39m] \u001b[38;5;241m=\u001b[39m \u001b[38;5;28;01mNone\u001b[39;00m\n\u001b[1;32m    436\u001b[0m ) \u001b[38;5;241m-\u001b[39m\u001b[38;5;241m>\u001b[39m PageObject:  \u001b[38;5;66;03m# pragma: no cover\u001b[39;00m\n\u001b[1;32m    437\u001b[0m \u001b[38;5;250m    \u001b[39m\u001b[38;5;124;03m\"\"\"\u001b[39;00m\n\u001b[1;32m    438\u001b[0m \u001b[38;5;124;03m    .. deprecated:: 1.28.0\u001b[39;00m\n\u001b[1;32m    439\u001b[0m \n\u001b[1;32m    440\u001b[0m \u001b[38;5;124;03m        Use :meth:`add_blank_page` instead.\u001b[39;00m\n\u001b[1;32m    441\u001b[0m \u001b[38;5;124;03m    \"\"\"\u001b[39;00m\n\u001b[0;32m--> 442\u001b[0m     \u001b[43mdeprecation_with_replacement\u001b[49m\u001b[43m(\u001b[49m\u001b[38;5;124;43m\"\u001b[39;49m\u001b[38;5;124;43maddBlankPage\u001b[39;49m\u001b[38;5;124;43m\"\u001b[39;49m\u001b[43m,\u001b[49m\u001b[43m \u001b[49m\u001b[38;5;124;43m\"\u001b[39;49m\u001b[38;5;124;43madd_blank_page\u001b[39;49m\u001b[38;5;124;43m\"\u001b[39;49m\u001b[43m,\u001b[49m\u001b[43m \u001b[49m\u001b[38;5;124;43m\"\u001b[39;49m\u001b[38;5;124;43m3.0.0\u001b[39;49m\u001b[38;5;124;43m\"\u001b[39;49m\u001b[43m)\u001b[49m\n\u001b[1;32m    443\u001b[0m     \u001b[38;5;28;01mreturn\u001b[39;00m \u001b[38;5;28mself\u001b[39m\u001b[38;5;241m.\u001b[39madd_blank_page(width, height)\n",
      "File \u001b[0;32m/opt/homebrew/anaconda3/envs/diploma/lib/python3.12/site-packages/PyPDF2/_utils.py:369\u001b[0m, in \u001b[0;36mdeprecation_with_replacement\u001b[0;34m(old_name, new_name, removed_in)\u001b[0m\n\u001b[1;32m    363\u001b[0m \u001b[38;5;28;01mdef\u001b[39;00m\u001b[38;5;250m \u001b[39m\u001b[38;5;21mdeprecation_with_replacement\u001b[39m(\n\u001b[1;32m    364\u001b[0m     old_name: \u001b[38;5;28mstr\u001b[39m, new_name: \u001b[38;5;28mstr\u001b[39m, removed_in: \u001b[38;5;28mstr\u001b[39m \u001b[38;5;241m=\u001b[39m \u001b[38;5;124m\"\u001b[39m\u001b[38;5;124m3.0.0\u001b[39m\u001b[38;5;124m\"\u001b[39m\n\u001b[1;32m    365\u001b[0m ) \u001b[38;5;241m-\u001b[39m\u001b[38;5;241m>\u001b[39m \u001b[38;5;28;01mNone\u001b[39;00m:\n\u001b[1;32m    366\u001b[0m \u001b[38;5;250m    \u001b[39m\u001b[38;5;124;03m\"\"\"\u001b[39;00m\n\u001b[1;32m    367\u001b[0m \u001b[38;5;124;03m    Raise an exception that a feature was already removed, but has a replacement.\u001b[39;00m\n\u001b[1;32m    368\u001b[0m \u001b[38;5;124;03m    \"\"\"\u001b[39;00m\n\u001b[0;32m--> 369\u001b[0m     \u001b[43mdeprecation\u001b[49m\u001b[43m(\u001b[49m\u001b[43mDEPR_MSG_HAPPENED\u001b[49m\u001b[38;5;241;43m.\u001b[39;49m\u001b[43mformat\u001b[49m\u001b[43m(\u001b[49m\u001b[43mold_name\u001b[49m\u001b[43m,\u001b[49m\u001b[43m \u001b[49m\u001b[43mremoved_in\u001b[49m\u001b[43m,\u001b[49m\u001b[43m \u001b[49m\u001b[43mnew_name\u001b[49m\u001b[43m)\u001b[49m\u001b[43m)\u001b[49m\n",
      "File \u001b[0;32m/opt/homebrew/anaconda3/envs/diploma/lib/python3.12/site-packages/PyPDF2/_utils.py:351\u001b[0m, in \u001b[0;36mdeprecation\u001b[0;34m(msg)\u001b[0m\n\u001b[1;32m    350\u001b[0m \u001b[38;5;28;01mdef\u001b[39;00m\u001b[38;5;250m \u001b[39m\u001b[38;5;21mdeprecation\u001b[39m(msg: \u001b[38;5;28mstr\u001b[39m) \u001b[38;5;241m-\u001b[39m\u001b[38;5;241m>\u001b[39m \u001b[38;5;28;01mNone\u001b[39;00m:\n\u001b[0;32m--> 351\u001b[0m     \u001b[38;5;28;01mraise\u001b[39;00m DeprecationError(msg)\n",
      "\u001b[0;31mDeprecationError\u001b[0m: addBlankPage is deprecated and was removed in PyPDF2 3.0.0. Use add_blank_page instead."
     ]
    }
   ],
   "source": [
    "import os  \n",
    "from docx import Document  \n",
    "from PyPDF2 import PdfWriter, PdfFileReader  \n",
    "  \n",
    "# 定义要转换的Word文档路径和输出PDF文档路径  \n",
    "input_file = '../TestPaper/21414000_21414000_（梁晓琦）基于HTML5的移动学习平台设计与实现_2018-03-17-16-43-37.docx' \n",
    "output_file = '../TestPaper/基于HTML5的移动学习平台设计与实现.pdf' \n",
    "  \n",
    "# 打开Word文档  \n",
    "document = Document(input_file)  \n",
    "  \n",
    "# 创建PDF文档对象  \n",
    "pdf_writer = PdfWriter ()  \n",
    "  \n",
    "# 将Word文档中的每一页转换为PDF文档的一页  \n",
    "for page in range(len(document.sections)):  \n",
    "    section = document.sections[page]  \n",
    "    pdf_page = pdf_writer.addBlankPage()  \n",
    "    for shape in section.shapes:  \n",
    "        if shape.has_text_frame:  \n",
    "            text_frame = shape.text_frame  \n",
    "            pdf_text_frame = pdf_page.createTextObject()  \n",
    "            pdf_text_frame.text = text_frame.text  \n",
    "            pdf_text_frame.fontname = text_frame.font.name  \n",
    "            pdf_text_frame.fontsize = text_frame.font.size  \n",
    "            pdf_text_frame.bold = text_frame.font.bold  \n",
    "            pdf_text_frame.italic = text_frame.font.italic  \n",
    "            pdf_text_frame.underline = text_frame.font.underline  \n",
    "            pdf_text_frame.strike = text_frame.font.strikeout  \n",
    "            pdf_text_frame.position = text_frame.position  \n",
    "            pdf_text_frame.paragraphs = text_frame.paragraphs  \n",
    "            pdf_page.append(pdf_text_frame)  \n",
    "  \n",
    "# 将PDF文档写入文件  \n",
    "with open(output_file, 'wb') as f:  \n",
    "    pdf_writer.write(f)\n",
    "\n",
    "\n"
   ]
  }
 ],
 "metadata": {
  "kernelspec": {
   "display_name": "diploma",
   "language": "python",
   "name": "python3"
  },
  "language_info": {
   "codemirror_mode": {
    "name": "ipython",
    "version": 3
   },
   "file_extension": ".py",
   "mimetype": "text/x-python",
   "name": "python",
   "nbconvert_exporter": "python",
   "pygments_lexer": "ipython3",
   "version": "3.12.8"
  }
 },
 "nbformat": 4,
 "nbformat_minor": 2
}
